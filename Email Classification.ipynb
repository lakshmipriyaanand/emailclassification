{
 "cells": [
  {
   "cell_type": "code",
   "execution_count": 1,
   "id": "fa273827",
   "metadata": {},
   "outputs": [],
   "source": [
    "#Importing libraries\n",
    "\n",
    "import pandas as pd\n",
    "import numpy as np\n",
    "import seaborn as sns\n",
    "import matplotlib.pyplot as plt\n",
    "from matplotlib import pyplot\n",
    "import seaborn as sns\n",
    "\n",
    "import warnings\n",
    "warnings.filterwarnings(\"ignore\")"
   ]
  },
  {
   "cell_type": "code",
   "execution_count": 38,
   "id": "07c5b7bc",
   "metadata": {},
   "outputs": [
    {
     "data": {
      "text/html": [
       "<div>\n",
       "<style scoped>\n",
       "    .dataframe tbody tr th:only-of-type {\n",
       "        vertical-align: middle;\n",
       "    }\n",
       "\n",
       "    .dataframe tbody tr th {\n",
       "        vertical-align: top;\n",
       "    }\n",
       "\n",
       "    .dataframe thead th {\n",
       "        text-align: right;\n",
       "    }\n",
       "</style>\n",
       "<table border=\"1\" class=\"dataframe\">\n",
       "  <thead>\n",
       "    <tr style=\"text-align: right;\">\n",
       "      <th></th>\n",
       "      <th>SUB</th>\n",
       "      <th>Body</th>\n",
       "      <th>LABEL</th>\n",
       "    </tr>\n",
       "  </thead>\n",
       "  <tbody>\n",
       "    <tr>\n",
       "      <th>0</th>\n",
       "      <td>Non receipt of Policy Document and Health Card.</td>\n",
       "      <td>Dear Sir ,  Ref .  Policy no .  15012192825000...</td>\n",
       "      <td>Soft Copy</td>\n",
       "    </tr>\n",
       "    <tr>\n",
       "      <th>1</th>\n",
       "      <td>POLICY NO-131621926130000085</td>\n",
       "      <td>DEAR SIR , I HAVE TAKEN A HOME INSURANCE PACKA...</td>\n",
       "      <td>Customer not interested</td>\n",
       "    </tr>\n",
       "    <tr>\n",
       "      <th>2</th>\n",
       "      <td>List of Document Pending Closure Mail For Serv...</td>\n",
       "      <td>&lt;!--  / Font Definitions /  @font-face  {font-...</td>\n",
       "      <td>Transfer / Sale</td>\n",
       "    </tr>\n",
       "    <tr>\n",
       "      <th>3</th>\n",
       "      <td>Ownership change from individual to individual...</td>\n",
       "      <td>Hi sir I am P. Robinson need to changeÂ  my ca...</td>\n",
       "      <td>Transfer / Sale</td>\n",
       "    </tr>\n",
       "    <tr>\n",
       "      <th>4</th>\n",
       "      <td>CANCELLATION OF POLICY NO 1905962933150025 Quo...</td>\n",
       "      <td>Dear Sir/Madam ,  As discussed with Reliance G...</td>\n",
       "      <td>Customer not interested</td>\n",
       "    </tr>\n",
       "  </tbody>\n",
       "</table>\n",
       "</div>"
      ],
      "text/plain": [
       "                                                 SUB  \\\n",
       "0    Non receipt of Policy Document and Health Card.   \n",
       "1                       POLICY NO-131621926130000085   \n",
       "2  List of Document Pending Closure Mail For Serv...   \n",
       "3  Ownership change from individual to individual...   \n",
       "4  CANCELLATION OF POLICY NO 1905962933150025 Quo...   \n",
       "\n",
       "                                                Body                    LABEL  \n",
       "0  Dear Sir ,  Ref .  Policy no .  15012192825000...                Soft Copy  \n",
       "1  DEAR SIR , I HAVE TAKEN A HOME INSURANCE PACKA...  Customer not interested  \n",
       "2  <!--  / Font Definitions /  @font-face  {font-...          Transfer / Sale  \n",
       "3  Hi sir I am P. Robinson need to changeÂ  my ca...          Transfer / Sale  \n",
       "4  Dear Sir/Madam ,  As discussed with Reliance G...  Customer not interested  "
      ]
     },
     "execution_count": 38,
     "metadata": {},
     "output_type": "execute_result"
    }
   ],
   "source": [
    "#Reading the dataset\n",
    "\n",
    "df=pd.read_excel(\"NLU_Project.xlsx\")\n",
    "df.head(5)"
   ]
  },
  {
   "cell_type": "code",
   "execution_count": 3,
   "id": "decb4666",
   "metadata": {},
   "outputs": [
    {
     "data": {
      "text/plain": [
       "(887, 3)"
      ]
     },
     "execution_count": 3,
     "metadata": {},
     "output_type": "execute_result"
    }
   ],
   "source": [
    "#Getting the number of rows and columns\n",
    "df.shape"
   ]
  },
  {
   "cell_type": "code",
   "execution_count": 4,
   "id": "97be3891",
   "metadata": {},
   "outputs": [
    {
     "name": "stdout",
     "output_type": "stream",
     "text": [
      "<class 'pandas.core.frame.DataFrame'>\n",
      "RangeIndex: 887 entries, 0 to 886\n",
      "Data columns (total 3 columns):\n",
      " #   Column  Non-Null Count  Dtype \n",
      "---  ------  --------------  ----- \n",
      " 0   SUB     887 non-null    object\n",
      " 1   Body    867 non-null    object\n",
      " 2   LABEL   887 non-null    object\n",
      "dtypes: object(3)\n",
      "memory usage: 20.9+ KB\n"
     ]
    }
   ],
   "source": [
    "#Datatypes of each variable\n",
    "df.info()"
   ]
  },
  {
   "cell_type": "code",
   "execution_count": 6,
   "id": "a75fbd78",
   "metadata": {},
   "outputs": [
    {
     "data": {
      "text/html": [
       "<div>\n",
       "<style scoped>\n",
       "    .dataframe tbody tr th:only-of-type {\n",
       "        vertical-align: middle;\n",
       "    }\n",
       "\n",
       "    .dataframe tbody tr th {\n",
       "        vertical-align: top;\n",
       "    }\n",
       "\n",
       "    .dataframe thead th {\n",
       "        text-align: right;\n",
       "    }\n",
       "</style>\n",
       "<table border=\"1\" class=\"dataframe\">\n",
       "  <thead>\n",
       "    <tr style=\"text-align: right;\">\n",
       "      <th></th>\n",
       "      <th>SUB</th>\n",
       "      <th>Body</th>\n",
       "      <th>LABEL</th>\n",
       "    </tr>\n",
       "  </thead>\n",
       "  <tbody>\n",
       "    <tr>\n",
       "      <th>count</th>\n",
       "      <td>887</td>\n",
       "      <td>867</td>\n",
       "      <td>887</td>\n",
       "    </tr>\n",
       "    <tr>\n",
       "      <th>unique</th>\n",
       "      <td>850</td>\n",
       "      <td>854</td>\n",
       "      <td>46</td>\n",
       "    </tr>\n",
       "    <tr>\n",
       "      <th>top</th>\n",
       "      <td>No Subject</td>\n",
       "      <td>----------</td>\n",
       "      <td>Soft Copy</td>\n",
       "    </tr>\n",
       "    <tr>\n",
       "      <th>freq</th>\n",
       "      <td>20</td>\n",
       "      <td>7</td>\n",
       "      <td>172</td>\n",
       "    </tr>\n",
       "  </tbody>\n",
       "</table>\n",
       "</div>"
      ],
      "text/plain": [
       "               SUB        Body      LABEL\n",
       "count          887         867        887\n",
       "unique         850         854         46\n",
       "top     No Subject  ----------  Soft Copy\n",
       "freq            20           7        172"
      ]
     },
     "execution_count": 6,
     "metadata": {},
     "output_type": "execute_result"
    }
   ],
   "source": [
    "#Summary of the dataset\n",
    "df.describe()"
   ]
  },
  {
   "cell_type": "code",
   "execution_count": 12,
   "id": "36a8f16a",
   "metadata": {
    "scrolled": true
   },
   "outputs": [
    {
     "data": {
      "text/plain": [
       "Soft Copy                                                                     172\n",
       "surveyor related requests                                                      49\n",
       "Request Received Before Policy Start Date                                      49\n",
       "Transfer / Sale                                                                44\n",
       "Status of Claim Under Process                                                  44\n",
       "Proposal / CN details to be verified                                           42\n",
       "Change /Correction in Name                                                     35\n",
       "Correction in Vehicle Registration/Engine No/Chasis No                         35\n",
       "Duplicate Policy Copy                                                          33\n",
       "Other Product Features                                                         30\n",
       "Policy Generation Related                                                      27\n",
       "Service Call Back                                                              26\n",
       "Customer not interested                                                        26\n",
       "NCB recovery related                                                           25\n",
       "Change in address                                                              22\n",
       "DND updation                                                                   17\n",
       "Change in DOB of Senior Most Member                                            15\n",
       "Status of repudiated/settled claim/closed                                      14\n",
       "Change in Contact Numbers                                                      14\n",
       "Deletion  of hypothecation details                                             12\n",
       "Change in email id                                                             12\n",
       "Alternate policy from other company                                            11\n",
       "Travel extensions                                                              10\n",
       "Request Received After Policy Start Date                                       10\n",
       "Correction in policy start date                                                10\n",
       "Dispatch related                                                               10\n",
       "Correction  in Manufacturing Year/Month                                        10\n",
       "NCB reserving letter                                                            9\n",
       "Change in Nominee Name/Nominee relationship                                     8\n",
       "Correction in Make Model/Vehicle Variant                                        8\n",
       "Renewal Related Information                                                     7\n",
       "Change in Marital status/Salutation                                             6\n",
       "NCB Related                                                                     5\n",
       "Addition of hypothecation details                                               5\n",
       "Online Transaction Related                                                      4\n",
       "NCB certificate                                                                 4\n",
       "Information/Process                                                             4\n",
       "Clarity on Renewal Notice                                                       4\n",
       "Cancel Claim                                                                    4\n",
       "Renewal Related Info/Online Related                                             3\n",
       "Document Received Confirmation                                                  3\n",
       "Appointment Related                                                             3\n",
       "GSTIN                                                                           2\n",
       "Change in passport Details/numbers/Countries to be visited/passport number      2\n",
       "Correction in RTO Details                                                       1\n",
       "Change in DOB of Other Members                                                  1\n",
       "Name: LABEL, dtype: int64"
      ]
     },
     "execution_count": 12,
     "metadata": {},
     "output_type": "execute_result"
    }
   ],
   "source": [
    "#Target variable value counts\n",
    "df.LABEL.value_counts()"
   ]
  },
  {
   "cell_type": "code",
   "execution_count": 39,
   "id": "efdd2b51",
   "metadata": {},
   "outputs": [],
   "source": [
    "#Converting Columns into String\n",
    "df['Body']=df['Body'].apply(str)\n",
    "df['SUB']=df['SUB'].apply(str)"
   ]
  },
  {
   "cell_type": "markdown",
   "id": "aafed85a",
   "metadata": {},
   "source": [
    "### Removing Stopwords"
   ]
  },
  {
   "cell_type": "markdown",
   "id": "cba0e651",
   "metadata": {},
   "source": [
    "#### i) Body"
   ]
  },
  {
   "cell_type": "code",
   "execution_count": 40,
   "id": "c173a8bc",
   "metadata": {},
   "outputs": [
    {
     "name": "stderr",
     "output_type": "stream",
     "text": [
      "[nltk_data] Downloading package stopwords to\n",
      "[nltk_data]     C:\\Users\\123\\AppData\\Roaming\\nltk_data...\n",
      "[nltk_data]   Package stopwords is already up-to-date!\n"
     ]
    }
   ],
   "source": [
    "# Select only alphabets\n",
    "import re\n",
    "df.Body = df.Body.apply(lambda x: re.sub('[^A-Za-z]+', ' ', x))\n",
    "\n",
    "# Convert text to lowercase\n",
    "df.Body = df.Body.apply(lambda x: x.lower())\n",
    "\n",
    "# Strip unwanted spaces\n",
    "df.Body = df.Body.apply(lambda x: x.strip())\n",
    "\n",
    "# Remove stopwords\n",
    "import nltk\n",
    "nltk.download('stopwords')\n",
    "from nltk.corpus import stopwords\n",
    "stopwords = set(stopwords.words('english'))\n",
    "df.Body = df.Body.apply(lambda x: ' '.join([word for word in x.split() if word not in stopwords]))"
   ]
  },
  {
   "cell_type": "markdown",
   "id": "7488040f",
   "metadata": {},
   "source": [
    "#### ii)Subject"
   ]
  },
  {
   "cell_type": "code",
   "execution_count": 41,
   "id": "196e9754",
   "metadata": {},
   "outputs": [
    {
     "name": "stderr",
     "output_type": "stream",
     "text": [
      "[nltk_data] Downloading package stopwords to\n",
      "[nltk_data]     C:\\Users\\123\\AppData\\Roaming\\nltk_data...\n",
      "[nltk_data]   Package stopwords is already up-to-date!\n"
     ]
    }
   ],
   "source": [
    "# Select only alphabets\n",
    "import re\n",
    "df.SUB = df.SUB.apply(lambda x: re.sub('[^A-Za-z]+', ' ', x))\n",
    "\n",
    "# Convert text to lowercase\n",
    "df.SUB = df.SUB.apply(lambda x: x.lower())\n",
    "\n",
    "# Strip unwanted spaces\n",
    "df.SUB = df.SUB.apply(lambda x: x.strip())\n",
    "\n",
    "# Remove stopwords\n",
    "import nltk\n",
    "nltk.download('stopwords')\n",
    "from nltk.corpus import stopwords\n",
    "stopwords = set(stopwords.words('english'))\n",
    "df.SUB = df.SUB.apply(lambda x: ' '.join([word for word in x.split() if word not in stopwords]))"
   ]
  },
  {
   "cell_type": "code",
   "execution_count": 22,
   "id": "aa7f209e",
   "metadata": {},
   "outputs": [
    {
     "data": {
      "text/plain": [
       "'dear sir taken home insurance package policy policy rs company regret state satisfied content policy please cancel mentioned policy immediate effect refund amount earliest thanking youumesh anand'"
      ]
     },
     "execution_count": 22,
     "metadata": {},
     "output_type": "execute_result"
    }
   ],
   "source": [
    "df.Body[1]"
   ]
  },
  {
   "cell_type": "code",
   "execution_count": 27,
   "id": "d0906646",
   "metadata": {},
   "outputs": [
    {
     "data": {
      "text/plain": [
       "'list document pending closure mail service request'"
      ]
     },
     "execution_count": 27,
     "metadata": {},
     "output_type": "execute_result"
    }
   ],
   "source": [
    "df.SUB[2]"
   ]
  },
  {
   "cell_type": "markdown",
   "id": "ab8e66ee",
   "metadata": {},
   "source": [
    "### Missing Value"
   ]
  },
  {
   "cell_type": "code",
   "execution_count": 42,
   "id": "7516664b",
   "metadata": {},
   "outputs": [
    {
     "data": {
      "text/plain": [
       "SUB      0\n",
       "Body     0\n",
       "LABEL    0\n",
       "dtype: int64"
      ]
     },
     "execution_count": 42,
     "metadata": {},
     "output_type": "execute_result"
    }
   ],
   "source": [
    "#Missing value detection\n",
    "df.isnull().sum()"
   ]
  },
  {
   "cell_type": "markdown",
   "id": "a9e130fb",
   "metadata": {},
   "source": [
    "### Creating a new column by merging 2 columns"
   ]
  },
  {
   "cell_type": "code",
   "execution_count": 44,
   "id": "9fe2dec7",
   "metadata": {},
   "outputs": [
    {
     "data": {
      "text/html": [
       "<div>\n",
       "<style scoped>\n",
       "    .dataframe tbody tr th:only-of-type {\n",
       "        vertical-align: middle;\n",
       "    }\n",
       "\n",
       "    .dataframe tbody tr th {\n",
       "        vertical-align: top;\n",
       "    }\n",
       "\n",
       "    .dataframe thead th {\n",
       "        text-align: right;\n",
       "    }\n",
       "</style>\n",
       "<table border=\"1\" class=\"dataframe\">\n",
       "  <thead>\n",
       "    <tr style=\"text-align: right;\">\n",
       "      <th></th>\n",
       "      <th>SUB</th>\n",
       "      <th>Body</th>\n",
       "      <th>LABEL</th>\n",
       "      <th>Text</th>\n",
       "    </tr>\n",
       "  </thead>\n",
       "  <tbody>\n",
       "    <tr>\n",
       "      <th>0</th>\n",
       "      <td>non receipt policy document health card</td>\n",
       "      <td>dear sir ref policy effective yet receive hard...</td>\n",
       "      <td>Soft Copy</td>\n",
       "      <td>[non receipt policy document health card, dear...</td>\n",
       "    </tr>\n",
       "    <tr>\n",
       "      <th>1</th>\n",
       "      <td>policy</td>\n",
       "      <td>dear sir taken home insurance package policy p...</td>\n",
       "      <td>Customer not interested</td>\n",
       "      <td>[policy, dear sir taken home insurance package...</td>\n",
       "    </tr>\n",
       "    <tr>\n",
       "      <th>2</th>\n",
       "      <td>list document pending closure mail service req...</td>\n",
       "      <td>font definitions font face font family cambria...</td>\n",
       "      <td>Transfer / Sale</td>\n",
       "      <td>[list document pending closure mail service re...</td>\n",
       "    </tr>\n",
       "  </tbody>\n",
       "</table>\n",
       "</div>"
      ],
      "text/plain": [
       "                                                 SUB  \\\n",
       "0            non receipt policy document health card   \n",
       "1                                             policy   \n",
       "2  list document pending closure mail service req...   \n",
       "\n",
       "                                                Body                    LABEL  \\\n",
       "0  dear sir ref policy effective yet receive hard...                Soft Copy   \n",
       "1  dear sir taken home insurance package policy p...  Customer not interested   \n",
       "2  font definitions font face font family cambria...          Transfer / Sale   \n",
       "\n",
       "                                                Text  \n",
       "0  [non receipt policy document health card, dear...  \n",
       "1  [policy, dear sir taken home insurance package...  \n",
       "2  [list document pending closure mail service re...  "
      ]
     },
     "execution_count": 44,
     "metadata": {},
     "output_type": "execute_result"
    }
   ],
   "source": [
    "df['Text'] = df.apply(lambda row:[row['SUB'],row['Body']], axis=1)\n",
    "df.head(3)"
   ]
  },
  {
   "cell_type": "code",
   "execution_count": 46,
   "id": "98245033",
   "metadata": {},
   "outputs": [
    {
     "data": {
      "text/html": [
       "<div>\n",
       "<style scoped>\n",
       "    .dataframe tbody tr th:only-of-type {\n",
       "        vertical-align: middle;\n",
       "    }\n",
       "\n",
       "    .dataframe tbody tr th {\n",
       "        vertical-align: top;\n",
       "    }\n",
       "\n",
       "    .dataframe thead th {\n",
       "        text-align: right;\n",
       "    }\n",
       "</style>\n",
       "<table border=\"1\" class=\"dataframe\">\n",
       "  <thead>\n",
       "    <tr style=\"text-align: right;\">\n",
       "      <th></th>\n",
       "      <th>Text</th>\n",
       "      <th>LABEL</th>\n",
       "    </tr>\n",
       "  </thead>\n",
       "  <tbody>\n",
       "    <tr>\n",
       "      <th>0</th>\n",
       "      <td>[non receipt policy document health card, dear...</td>\n",
       "      <td>Soft Copy</td>\n",
       "    </tr>\n",
       "    <tr>\n",
       "      <th>1</th>\n",
       "      <td>[policy, dear sir taken home insurance package...</td>\n",
       "      <td>Customer not interested</td>\n",
       "    </tr>\n",
       "    <tr>\n",
       "      <th>2</th>\n",
       "      <td>[list document pending closure mail service re...</td>\n",
       "      <td>Transfer / Sale</td>\n",
       "    </tr>\n",
       "    <tr>\n",
       "      <th>3</th>\n",
       "      <td>[ownership change individual individual policy...</td>\n",
       "      <td>Transfer / Sale</td>\n",
       "    </tr>\n",
       "    <tr>\n",
       "      <th>4</th>\n",
       "      <td>[cancellation policy quoting sr, dear sir mada...</td>\n",
       "      <td>Customer not interested</td>\n",
       "    </tr>\n",
       "    <tr>\n",
       "      <th>...</th>\n",
       "      <td>...</td>\n",
       "      <td>...</td>\n",
       "    </tr>\n",
       "    <tr>\n",
       "      <th>882</th>\n",
       "      <td>[ncb sr, regarding service request claim bonus...</td>\n",
       "      <td>NCB recovery related</td>\n",
       "    </tr>\n",
       "    <tr>\n",
       "      <th>883</th>\n",
       "      <td>[fwd modification policy request, ]</td>\n",
       "      <td>Change in Marital status/Salutation</td>\n",
       "    </tr>\n",
       "    <tr>\n",
       "      <th>884</th>\n",
       "      <td>[fwd need urgent help change dates today creat...</td>\n",
       "      <td>Request Received Before Policy Start Date</td>\n",
       "    </tr>\n",
       "    <tr>\n",
       "      <th>885</th>\n",
       "      <td>[subject, ref pl indicate documents asking pas...</td>\n",
       "      <td>Request Received After Policy Start Date</td>\n",
       "    </tr>\n",
       "    <tr>\n",
       "      <th>886</th>\n",
       "      <td>[need urgent help change dates today created p...</td>\n",
       "      <td>Request Received Before Policy Start Date</td>\n",
       "    </tr>\n",
       "  </tbody>\n",
       "</table>\n",
       "<p>887 rows × 2 columns</p>\n",
       "</div>"
      ],
      "text/plain": [
       "                                                  Text  \\\n",
       "0    [non receipt policy document health card, dear...   \n",
       "1    [policy, dear sir taken home insurance package...   \n",
       "2    [list document pending closure mail service re...   \n",
       "3    [ownership change individual individual policy...   \n",
       "4    [cancellation policy quoting sr, dear sir mada...   \n",
       "..                                                 ...   \n",
       "882  [ncb sr, regarding service request claim bonus...   \n",
       "883                [fwd modification policy request, ]   \n",
       "884  [fwd need urgent help change dates today creat...   \n",
       "885  [subject, ref pl indicate documents asking pas...   \n",
       "886  [need urgent help change dates today created p...   \n",
       "\n",
       "                                         LABEL  \n",
       "0                                    Soft Copy  \n",
       "1                      Customer not interested  \n",
       "2                              Transfer / Sale  \n",
       "3                              Transfer / Sale  \n",
       "4                      Customer not interested  \n",
       "..                                         ...  \n",
       "882                       NCB recovery related  \n",
       "883        Change in Marital status/Salutation  \n",
       "884  Request Received Before Policy Start Date  \n",
       "885   Request Received After Policy Start Date  \n",
       "886  Request Received Before Policy Start Date  \n",
       "\n",
       "[887 rows x 2 columns]"
      ]
     },
     "execution_count": 46,
     "metadata": {},
     "output_type": "execute_result"
    }
   ],
   "source": [
    "df[['Text','LABEL']]"
   ]
  },
  {
   "cell_type": "markdown",
   "id": "e94b56f2",
   "metadata": {},
   "source": [
    "### Train test split"
   ]
  },
  {
   "cell_type": "code",
   "execution_count": 49,
   "id": "9494e815",
   "metadata": {},
   "outputs": [
    {
     "name": "stdout",
     "output_type": "stream",
     "text": [
      "X train shape:  (709,)\n",
      "Y train shape:  (709,)\n",
      "X test shape:  (178,)\n",
      "Y test shape:  (178,)\n"
     ]
    }
   ],
   "source": [
    "#Train Test Split\n",
    "from sklearn.model_selection import train_test_split\n",
    "X_train, X_test, y_train, y_test = train_test_split(df.Text.values, df.LABEL.values, test_size=0.20, random_state=42)\n",
    "print(\"X train shape: \",X_train.shape)\n",
    "print(\"Y train shape: \",y_train.shape)\n",
    "print(\"X test shape: \",X_test.shape)\n",
    "print(\"Y test shape: \",y_test.shape)"
   ]
  },
  {
   "cell_type": "code",
   "execution_count": null,
   "id": "7c13f70e",
   "metadata": {},
   "outputs": [],
   "source": []
  }
 ],
 "metadata": {
  "kernelspec": {
   "display_name": "Python 3 (ipykernel)",
   "language": "python",
   "name": "python3"
  },
  "language_info": {
   "codemirror_mode": {
    "name": "ipython",
    "version": 3
   },
   "file_extension": ".py",
   "mimetype": "text/x-python",
   "name": "python",
   "nbconvert_exporter": "python",
   "pygments_lexer": "ipython3",
   "version": "3.11.3"
  }
 },
 "nbformat": 4,
 "nbformat_minor": 5
}
